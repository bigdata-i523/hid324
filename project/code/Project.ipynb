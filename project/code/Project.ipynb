{
 "cells": [
  {
   "cell_type": "code",
   "execution_count": 1,
   "metadata": {},
   "outputs": [
    {
     "name": "stdout",
     "output_type": "stream",
     "text": [
      "Spark context initiated..\n"
     ]
    }
   ],
   "source": [
    "from pyspark import SparkContext, SparkConf\n",
    "from pyspark.sql.types import *\n",
    "from pyspark.sql import Row\n",
    "from datetime import datetime\n",
    "from pyspark.sql import SparkSession\n",
    "\n",
    "conf = SparkConf().setAppName(\"RandomForest\").setMaster(\"local[4]\")\n",
    "sc = SparkContext(conf=conf)\n",
    "\n",
    "spark = SparkSession(sc)\n",
    "print \"Spark context initiated..\""
   ]
  },
  {
   "cell_type": "code",
   "execution_count": 2,
   "metadata": {},
   "outputs": [
    {
     "name": "stdout",
     "output_type": "stream",
     "text": [
      "Executing in Direectory : /Users/ashokkuppuraj/Downloads/project/code\n"
     ]
    }
   ],
   "source": [
    "import pyspark.mllib\n",
    "import pyspark.mllib.regression\n",
    "from pyspark.mllib.regression import LabeledPoint\n",
    "from pyspark.sql.functions import *\n",
    "from pyspark.ml.classification import RandomForestClassifier\n",
    "from pyspark.mllib.tree import RandomForest, RandomForestModel\n",
    "from pyspark.mllib.util import MLUtils\n",
    "\n",
    "\n",
    "import os\n",
    "cwd = os.getcwd()\n",
    "os.chdir(cwd)\n",
    "cwd = os.getcwd()\n",
    "\n",
    "print \"Executing in Direectory : \" + cwd"
   ]
  },
  {
   "cell_type": "code",
   "execution_count": 3,
   "metadata": {},
   "outputs": [
    {
     "name": "stdout",
     "output_type": "stream",
     "text": [
      "Base File 1/3 loaded\n"
     ]
    }
   ],
   "source": [
    "data=sc.textFile(\"data/Bitcoin_USD_History.csv\")\n",
    "rdd = data.map(lambda line: line.split(\",\"))\n",
    "header = rdd.first()\n",
    "rdd = rdd.filter(lambda line:line != header)\n",
    "rdd.take(10)\n",
    "base_df = rdd.map(lambda line: Row(aaclose=line[4],waitage=line[7],open=line[1],high=line[2],low=line[3],btc_vol=line[5],cur_vol=line[6],weekday=datetime.strptime(line[0],\"%Y-%m-%d\").date().weekday(),dt=line[0])).toDF()\n",
    "\n",
    "print \"Base File 1/3 loaded\"\n"
   ]
  },
  {
   "cell_type": "code",
   "execution_count": 4,
   "metadata": {},
   "outputs": [
    {
     "name": "stdout",
     "output_type": "stream",
     "text": [
      "Base File 2/3 loaded\n"
     ]
    }
   ],
   "source": [
    "google_data=sc.textFile('data/Google-Intererst-Bitcoin.csv')\n",
    "google_rdd = google_data.map(lambda line: line.split(\",\"))\n",
    "header_g = google_rdd.first()\n",
    "google_rdd = google_rdd.filter(lambda line:line != header_g)\n",
    "google_rdd.take(10)\n",
    "google_df=google_rdd.map(lambda line: Row(dt_sp=line[0],cnt=float(line[1]))).toDF()\n",
    "\n",
    "\n",
    "print \"Base File 2/3 loaded\""
   ]
  },
  {
   "cell_type": "code",
   "execution_count": 5,
   "metadata": {},
   "outputs": [
    {
     "name": "stdout",
     "output_type": "stream",
     "text": [
      "Base File 3/3 loaded\n"
     ]
    }
   ],
   "source": [
    "data1=sc.textFile('data/export-ETHTx.csv')\n",
    "data2=sc.textFile('data/export-EtherPrice.csv')\n",
    "rdd1 = data1.map(lambda line: line.split(\",\"))\n",
    "rdd2 = data2.map(lambda line: line.split(\",\"))\n",
    "header1 = rdd1.first()\n",
    "header2 = rdd2.first()\n",
    "rdd1 = rdd1.filter(lambda line:line != header1)\n",
    "rdd2 = rdd2.filter(lambda line:line != header2)\n",
    "rdd1.take(10)\n",
    "\n",
    "\n",
    "print \"Base File 3/3 loaded\""
   ]
  },
  {
   "cell_type": "code",
   "execution_count": 6,
   "metadata": {
    "collapsed": true
   },
   "outputs": [],
   "source": [
    "ETH_TXN_df = rdd1.map(lambda line: Row(dt=line[0],utime=line[1],txns=float(line[2]))).toDF()\n",
    "ETH_PRICE_df = rdd2.map(lambda line: Row(dt=line[0],utime=line[1],price=float(line[2]))).toDF()\n",
    "\n",
    "ETH_df=ETH_TXN_df.join(ETH_PRICE_df,ETH_TXN_df.dt==ETH_PRICE_df.dt)\n",
    "ETH_DF=ETH_df.rdd.map(lambda line:Row(dt_e=datetime.strptime(line[0],\"%m/%d/%Y\").strftime(\"%Y-%m-%d\"),txns=line[1],price=line[4])).toDF()\n"
   ]
  },
  {
   "cell_type": "code",
   "execution_count": 7,
   "metadata": {},
   "outputs": [
    {
     "name": "stdout",
     "output_type": "stream",
     "text": [
      "Base File merge completed with record count : 812\n"
     ]
    }
   ],
   "source": [
    "BIT_df=base_df.join(google_df,base_df.dt==google_df.dt_sp,\"left_outer\")\n",
    "\n",
    "###Join base data with Ether data \n",
    "df_all_data=BIT_df.join(ETH_DF, BIT_df.dt==ETH_DF.dt_e,\"left_outer\")\n",
    "\n",
    "\n",
    "print \"Base File merge completed with record count : \" + str(df_all_data.count())\n"
   ]
  },
  {
   "cell_type": "code",
   "execution_count": 8,
   "metadata": {},
   "outputs": [
    {
     "name": "stdout",
     "output_type": "stream",
     "text": [
      "+------------------+-----------------+-----------------+\n",
      "|               cnt|            price|             txns|\n",
      "+------------------+-----------------+-----------------+\n",
      "|13.086206896551724|85.37229822161422|113889.7537619699|\n",
      "+------------------+-----------------+-----------------+\n",
      "\n"
     ]
    },
    {
     "data": {
      "text/plain": [
       "DataFrame[aaclose: string, btc_vol: string, cur_vol: string, dt: string, high: string, low: string, open: string, waitage: string, weekday: bigint, cnt: double, dt_sp: string, dt_e: string, price: double, txns: double]"
      ]
     },
     "execution_count": 8,
     "metadata": {},
     "output_type": "execute_result"
    }
   ],
   "source": [
    "from pyspark.ml.feature import Imputer\n",
    "imputer = Imputer(inputCols=[\"cnt\", \"price\",\"txns\"], outputCols=[\"cnt\", \"price\",\"txns\"])\n",
    "model = imputer.fit(df_all_data)\n",
    "model.surrogateDF.show()\n",
    "corrected_df=model.transform(df_all_data)\n",
    "corrected_df.cache()\n"
   ]
  },
  {
   "cell_type": "code",
   "execution_count": 9,
   "metadata": {},
   "outputs": [
    {
     "name": "stdout",
     "output_type": "stream",
     "text": [
      "Feature correction completed - Imputer finished\n",
      "Correlation analysis started \n"
     ]
    }
   ],
   "source": [
    "print \"Feature correction completed - Imputer finished\"\n",
    "\n",
    "print \"Correlation analysis started \"\n",
    "\n"
   ]
  },
  {
   "cell_type": "code",
   "execution_count": 10,
   "metadata": {},
   "outputs": [
    {
     "name": "stdout",
     "output_type": "stream",
     "text": [
      "spearman's Correlation on selected features ::\n",
      "btc_vol:0.348540857386\n",
      "high:0.998581861669\n",
      "low:0.995190604708\n",
      "open:0.997943642437\n",
      "Google_trend:0.260343238604\n",
      "ETH price:0.68683414787\n",
      "ETH TRANS:0.720031468617\n",
      "btc_price<Label>:1.0\n",
      "Correlation analysis Completed \n"
     ]
    }
   ],
   "source": [
    "print \"spearman's Correlation on selected features ::\"\n",
    "from pyspark.mllib.stat import Statistics\n",
    "aaclose_rdd=corrected_df.rdd.map(lambda l:l['aaclose']).cache()\n",
    "btc_vol_rdd=corrected_df.rdd.map(lambda l:l['btc_vol']).cache()\n",
    "high_rdd=corrected_df.rdd.map(lambda l:l['high']).cache()\n",
    "low_rdd=corrected_df.rdd.map(lambda l:l['low']).cache()\n",
    "open_rdd=corrected_df.rdd.map(lambda l:l['open']).cache()\n",
    "cnt_rdd=corrected_df.rdd.map(lambda l:l['cnt']).cache()\n",
    "price_rdd=corrected_df.rdd.map(lambda l:l['price']).cache()\n",
    "txns_rdd=corrected_df.rdd.map(lambda l:l['txns']).cache()\n",
    "\n",
    "print \"btc_vol:\" + str(Statistics.corr(aaclose_rdd,btc_vol_rdd,\"spearman\"))\n",
    "print \"high:\" + str(Statistics.corr(aaclose_rdd,high_rdd,\"spearman\"))\n",
    "print \"low:\" + str(Statistics.corr(aaclose_rdd,low_rdd,\"spearman\"))\n",
    "print \"open:\" + str(Statistics.corr(aaclose_rdd,open_rdd,\"spearman\"))\n",
    "print \"Google_trend:\" + str(Statistics.corr(aaclose_rdd,cnt_rdd,\"spearman\"))\n",
    "print \"ETH price:\" + str(Statistics.corr(aaclose_rdd,price_rdd,\"spearman\"))\n",
    "print \"ETH TRANS:\" + str(Statistics.corr(aaclose_rdd,txns_rdd,\"spearman\"))\n",
    "print \"btc_price<Label>:\" + str(Statistics.corr(aaclose_rdd,aaclose_rdd,\"spearman\"))\n",
    "\n",
    "print \"Correlation analysis Completed \""
   ]
  },
  {
   "cell_type": "code",
   "execution_count": 11,
   "metadata": {},
   "outputs": [
    {
     "name": "stdout",
     "output_type": "stream",
     "text": [
      "Correlation plot started \n",
      "Correlation plot [-     ] \n"
     ]
    }
   ],
   "source": [
    "####Correlation plots\n",
    "print \"Correlation plot started \"\n",
    "\n",
    "import scipy as sp\n",
    "import pandas as pd\n",
    "import xlrd\n",
    "import matplotlib.pyplot as plt\n",
    "\n",
    "aaclose=[float(i.aaclose) for i in corrected_df.sort(asc(\"dt\")).collect()]\n",
    "btc_vol=[float(i.btc_vol)/10 for i in corrected_df.sort(asc(\"dt\")).collect()]\n",
    "plt.plot(btc_vol, label=\"Bitcoin transactions\", linestyle='--')\n",
    "plt.plot(aaclose, label=\"Bitcoin USD value\")\n",
    "plt.ylabel(\"count\")\n",
    "plt.xlabel(\"Date progression\")\n",
    "plt.legend(bbox_to_anchor=(1.05, 1), loc=2, borderaxespad=0.)\n",
    "plt.savefig(\"extract/Correlation-btc_vol.png\")\n",
    "plt.clf()\n",
    "\n",
    "print \"Correlation plot [-     ] \""
   ]
  },
  {
   "cell_type": "code",
   "execution_count": 12,
   "metadata": {},
   "outputs": [
    {
     "name": "stdout",
     "output_type": "stream",
     "text": [
      "Correlation plot [--    ] \n"
     ]
    }
   ],
   "source": [
    "high=[float(i.high) for i in corrected_df.sort(asc(\"dt\")).collect()]\n",
    "plt.plot(high, label=\"Bitcoin transactions\", linestyle='--')\n",
    "plt.plot(aaclose, label=\"Bitcoin USD value\")\n",
    "plt.ylabel(\"count\")\n",
    "plt.xlabel(\"Date progression\")\n",
    "plt.legend(bbox_to_anchor=(1.05, 1), loc=2, borderaxespad=0.)\n",
    "plt.savefig(\"extract/Correlation-high.png\")\n",
    "plt.clf()\n",
    "\n",
    "print \"Correlation plot [--    ] \""
   ]
  },
  {
   "cell_type": "code",
   "execution_count": 13,
   "metadata": {},
   "outputs": [
    {
     "name": "stdout",
     "output_type": "stream",
     "text": [
      "Correlation plot [---   ]\n"
     ]
    }
   ],
   "source": [
    "low=[float(i.low) for i in corrected_df.sort(asc(\"dt\")).collect()]\n",
    "plt.plot(low, label=\"BTC Low\", linestyle='--')\n",
    "plt.plot(aaclose, label=\"Bitcoin USD value\")\n",
    "plt.ylabel(\"count\")\n",
    "plt.xlabel(\"Date progression\")\n",
    "plt.legend(bbox_to_anchor=(1.05, 1), loc=2, borderaxespad=0.)\n",
    "plt.savefig(\"extract/Correlation-low.png\")\n",
    "plt.clf()\n",
    "\n",
    "print \"Correlation plot [---   ]\""
   ]
  },
  {
   "cell_type": "code",
   "execution_count": 14,
   "metadata": {},
   "outputs": [
    {
     "name": "stdout",
     "output_type": "stream",
     "text": [
      "Correlation plot [----  ] \n"
     ]
    }
   ],
   "source": [
    "open=[float(i.open) for i in corrected_df.sort(asc(\"dt\")).collect()]\n",
    "plt.plot(open, label=\"BTC open\", linestyle='--')\n",
    "plt.plot(aaclose, label=\"Bitcoin USD value\")\n",
    "plt.ylabel(\"count\")\n",
    "plt.xlabel(\"Date progression\")\n",
    "plt.legend(bbox_to_anchor=(1.05, 1), loc=2, borderaxespad=0.)\n",
    "plt.savefig(\"extract/Correlation-open.png\")\n",
    "plt.clf()\n",
    "\n",
    "print \"Correlation plot [----  ] \""
   ]
  },
  {
   "cell_type": "code",
   "execution_count": 15,
   "metadata": {},
   "outputs": [
    {
     "name": "stdout",
     "output_type": "stream",
     "text": [
      "Correlation plot [----- ]\n"
     ]
    }
   ],
   "source": [
    "cnt=[float(i.cnt)*60 for i in corrected_df.sort(asc(\"dt\")).collect()]\n",
    "plt.plot(cnt, label=\"Google Trend\", linestyle='--')\n",
    "plt.plot(aaclose, label=\"Bitcoin USD value\")\n",
    "plt.ylabel(\"count\")\n",
    "plt.xlabel(\"Date progression\")\n",
    "plt.legend(bbox_to_anchor=(1.05, 1), loc=2, borderaxespad=0.)\n",
    "plt.savefig(\"extract/Correlation-Googletrend.png\")\n",
    "plt.clf()\n",
    "\n",
    "print \"Correlation plot [----- ]\""
   ]
  },
  {
   "cell_type": "code",
   "execution_count": 16,
   "metadata": {},
   "outputs": [
    {
     "name": "stdout",
     "output_type": "stream",
     "text": [
      "Correlation plot [------] \n"
     ]
    }
   ],
   "source": [
    "price=[float(i.price)*10 for i in corrected_df.sort(asc(\"dt\")).collect()]\n",
    "plt.plot(price, label=\"ETH USD value\", linestyle='--')\n",
    "plt.plot(aaclose, label=\"Bitcoin USD value\")\n",
    "plt.ylabel(\"count\")\n",
    "plt.xlabel(\"Date progression\")\n",
    "plt.legend(bbox_to_anchor=(1.05, 1), loc=2, borderaxespad=0.)\n",
    "plt.savefig(\"extract/Correlation-ETH.png\")\n",
    "plt.clf()\n",
    "\n",
    "print \"Correlation plot [------] \""
   ]
  },
  {
   "cell_type": "code",
   "execution_count": 17,
   "metadata": {
    "collapsed": true
   },
   "outputs": [],
   "source": [
    "txns=[float(i.txns)/20 for i in corrected_df.sort(asc(\"dt\")).collect()]\n",
    "plt.plot(txns, label=\"ETH treansaction count\", linestyle='--')\n",
    "plt.plot(aaclose, label=\"Bitcoin USD value\")\n",
    "plt.ylabel(\"count\")\n",
    "plt.xlabel(\"Date progression\")\n",
    "plt.legend(bbox_to_anchor=(1.05, 1), loc=2, borderaxespad=0.)\n",
    "plt.savefig(\"extract/Correlation-ETHtxns.png\")\n",
    "plt.clf()"
   ]
  },
  {
   "cell_type": "code",
   "execution_count": 18,
   "metadata": {},
   "outputs": [
    {
     "name": "stdout",
     "output_type": "stream",
     "text": [
      "All plots are exported to /Users/ashokkuppuraj/Downloads/project/code/extract folder\n",
      "Model initiated - Random Forest \n"
     ]
    }
   ],
   "source": [
    "print \"All plots are exported to \"+str(cwd)+'/'+'extract'+\" folder\"\n",
    "print \"Model initiated - Random Forest \"\n"
   ]
  },
  {
   "cell_type": "code",
   "execution_count": 19,
   "metadata": {},
   "outputs": [
    {
     "name": "stdout",
     "output_type": "stream",
     "text": [
      "Closeness Index : 100.02%\n",
      "MSE = 12602.5427722\n",
      "RMSE = 112.26104744\n",
      "R-squared = 0.99333257151\n",
      "MAE = 53.6514614338\n"
     ]
    }
   ],
   "source": [
    "\n",
    "df=corrected_df.select([c for c in corrected_df.columns if c not in {'dt','dt_e','dt_sp','cnt','price','txns','high','low','open'}])\n",
    "temp = df.rdd.map(lambda line:LabeledPoint(line[0],[line[1:]]))\n",
    "temp.take(5)\n",
    "(trainingData, testData) = temp.randomSplit([0.8, 0.2])\n",
    "\n",
    "\n",
    "model = RandomForest.trainRegressor(trainingData, categoricalFeaturesInfo={},numTrees=8, featureSubsetStrategy=\"auto\",impurity='variance', maxDepth=30, maxBins=32)\n",
    "predictions = model.predict(testData.map(lambda x: x.features))\n",
    "labelsAndPredictions = testData.map(lambda lp: lp.label).zip(predictions)\n",
    "labelsAndPredictions.cache()\n",
    "\n",
    "\n",
    "###############accuracy\n",
    "from operator import add\n",
    "acc = labelsAndPredictions.map(lambda x: ((x[0]/x[1])*100)).reduce(add)\n",
    "print (\"Closeness Index : %.2f%%\"  %(acc/labelsAndPredictions.count()))\n",
    "\n",
    "from pyspark.mllib.regression import LabeledPoint, LinearRegressionWithSGD\n",
    "from pyspark.mllib.evaluation import RegressionMetrics\n",
    "from pyspark.mllib.linalg import DenseVector\n",
    "\n",
    "metrics = RegressionMetrics(labelsAndPredictions)\n",
    "print(\"MSE = %s\" % metrics.meanSquaredError)\n",
    "print(\"RMSE = %s\" % metrics.rootMeanSquaredError)\n",
    "print(\"R-squared = %s\" % metrics.r2)\n",
    "print(\"MAE = %s\" % metrics.meanAbsoluteError)\n",
    "\n"
   ]
  },
  {
   "cell_type": "code",
   "execution_count": 20,
   "metadata": {
    "collapsed": true
   },
   "outputs": [],
   "source": [
    "predict=labelsAndPredictions.sortByKey().map(lambda a:a[1]).collect()\n",
    "label=labelsAndPredictions.sortByKey().map(lambda a:a[0]).collect()\n",
    "x=range(int(labelsAndPredictions.count()))\n",
    "\n",
    "fig = plt.figure()\n",
    "ax1 = fig.add_subplot(111)\n",
    "ax1.scatter(x, label, s=10, c='b', marker=\"|\", label='Test price')\n",
    "ax1.scatter(x,predict, s=10, c='r', marker=\"|\", label='Predicted price')\n",
    "plt.legend(loc='upper left');"
   ]
  },
  {
   "cell_type": "code",
   "execution_count": 21,
   "metadata": {},
   "outputs": [
    {
     "data": {
      "text/plain": [
       "<matplotlib.figure.Figure at 0x10aacb3d0>"
      ]
     },
     "metadata": {},
     "output_type": "display_data"
    },
    {
     "data": {
      "image/png": "[encoded data removed]",
      "text/plain": [
       "<matplotlib.figure.Figure at 0x10ed44510>"
      ]
     },
     "metadata": {},
     "output_type": "display_data"
    }
   ],
   "source": [
    "plt.show()"
   ]
  },
  {
   "cell_type": "code",
   "execution_count": 22,
   "metadata": {},
   "outputs": [
    {
     "name": "stdout",
     "output_type": "stream",
     "text": [
      "Model initiated - GBT \n",
      "Closeness Index : 103.28%\n",
      "MSE = 34711.1365518\n",
      "RMSE = 186.309249775\n",
      "R-squared = 0.981781442194\n",
      "MAE = 121.290591248\n"
     ]
    }
   ],
   "source": [
    "print \"Model initiated - GBT \"\n",
    "\n",
    "from pyspark.mllib.tree import GradientBoostedTrees, GradientBoostedTreesModel\n",
    "\n",
    "model1 = GradientBoostedTrees.trainRegressor(trainingData,categoricalFeaturesInfo={}, numIterations=3)\n",
    "predictions1 = model1.predict(testData.map(lambda x: x.features))\n",
    "labelsAndPredictions1 = testData.map(lambda lp: lp.label).zip(predictions1)\n",
    "labelsAndPredictions1.cache()\n",
    "acc1 = labelsAndPredictions1.map(lambda x: ((x[0]/x[1])*100)).reduce(add)\n",
    "print (\"Closeness Index : %.2f%%\"  %(acc1/labelsAndPredictions1.count()))\n",
    "\n",
    "from pyspark.mllib.regression import LabeledPoint, LinearRegressionWithSGD\n",
    "from pyspark.mllib.evaluation import RegressionMetrics\n",
    "from pyspark.mllib.linalg import DenseVector\n",
    "\n",
    "metrics = RegressionMetrics(labelsAndPredictions1)\n",
    "print(\"MSE = %s\" % metrics.meanSquaredError)\n",
    "print(\"RMSE = %s\" % metrics.rootMeanSquaredError)\n",
    "print(\"R-squared = %s\" % metrics.r2)\n",
    "print(\"MAE = %s\" % metrics.meanAbsoluteError)\n"
   ]
  },
  {
   "cell_type": "code",
   "execution_count": 23,
   "metadata": {
    "collapsed": true
   },
   "outputs": [],
   "source": [
    "predict1=labelsAndPredictions1.sortByKey().map(lambda a:a[1]).collect()\n",
    "label1=labelsAndPredictions1.sortByKey().map(lambda a:a[0]).collect()\n",
    "x=range(int(labelsAndPredictions.count()))\n",
    "\n",
    "fig = plt.figure()\n",
    "ax2 = fig.add_subplot(111)\n",
    "ax2.scatter(x, label1, s=10, c='b', marker=\"|\", label='Test price')\n",
    "ax2.scatter(x,predict1, s=10, c='r', marker=\"|\", label='Predicted price')\n",
    "plt.legend(loc='upper left');"
   ]
  },
  {
   "cell_type": "code",
   "execution_count": 24,
   "metadata": {},
   "outputs": [
    {
     "data": {
      "image/png": "[encoded data removed]",
      "text/plain": [
       "<matplotlib.figure.Figure at 0x10ece6850>"
      ]
     },
     "metadata": {},
     "output_type": "display_data"
    }
   ],
   "source": [
    "plt.show()"
   ]
  },
  {
   "cell_type": "code",
   "execution_count": null,
   "metadata": {
    "collapsed": true
   },
   "outputs": [],
   "source": []
  }
 ],
 "metadata": {
  "kernelspec": {
   "display_name": "Python 2",
   "language": "python",
   "name": "python2"
  },
  "language_info": {
   "codemirror_mode": {
    "name": "ipython",
    "version": 2
   },
   "file_extension": ".py",
   "mimetype": "text/x-python",
   "name": "python",
   "nbconvert_exporter": "python",
   "pygments_lexer": "ipython2",
   "version": "2.7.13"
  }
 },
 "nbformat": 4,
 "nbformat_minor": 2
}
